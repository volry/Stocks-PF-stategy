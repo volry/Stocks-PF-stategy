{
 "cells": [
  {
   "cell_type": "markdown",
   "id": "6b1e996e",
   "metadata": {},
   "source": [
    "# Penny Stock Model"
   ]
  },
  {
   "cell_type": "code",
   "execution_count": 1,
   "id": "f64ba5a1",
   "metadata": {},
   "outputs": [],
   "source": [
    "# import libraries\n",
    "import pandas as pd\n",
    "import yfinance as yf\n",
    "import numpy as np\n",
    "import datetime"
   ]
  },
  {
   "cell_type": "code",
   "execution_count": 2,
   "id": "f65c9313",
   "metadata": {},
   "outputs": [],
   "source": [
    "# parameters\n",
    "VolRise = 0.99  # open position, after current volume will be more than VolRise value\n",
    "AvgVolDayLimit = 10 # average for shifting average\n",
    "ExitAfter = 0.25 # close position after price achieve ExitAfter\n",
    "StopLoss = -0.07 # close position after price meets stop\n",
    "RiskPertrade = 2000 # buy for sum \n",
    "TradeAfterDays = 3 # begin trade after TradeAfterDays days from start\n",
    "price_filter = 0.5 # below this price we open pos\n",
    "high_prevClose = 0.1 # if high more than previous close on high_prevClose\n",
    "UpperBandVol = 0.7      # if price is in range of  UpperBandVol and LowwerBandVol - please take a volume\n",
    "LowwerBandVol = 0.09    #   if price is in range of  UpperBandVol and LowwerBandVol - please take a volume\n",
    "positionValue = 10000  # the sum you need to collect\n",
    "openPosStatus = False\n",
    "volume_potensial =0 \n",
    "\n"
   ]
  },
  {
   "cell_type": "code",
   "execution_count": null,
   "id": "482ef4e8",
   "metadata": {},
   "outputs": [],
   "source": []
  },
  {
   "cell_type": "code",
   "execution_count": null,
   "id": "46ef7335",
   "metadata": {},
   "outputs": [],
   "source": []
  },
  {
   "cell_type": "code",
   "execution_count": 31,
   "id": "1fe5694c",
   "metadata": {},
   "outputs": [],
   "source": [
    "# для класу deposit потрібно\n",
    "# кількість акцій\n",
    "# середня ціна\n",
    "# дата старту набору позиції\n",
    "# дата закінчення набору позиції\n",
    "class StockBalance():\n",
    "    positionValue = 10000\n",
    "   \n",
    "    def __init__(self, ticker):\n",
    "        self.ticker = ticker\n",
    "        self.market_value = 0\n",
    "        self.end_date = 0\n",
    "        self.qty = 0\n",
    "        self.avg_price = 0\n",
    "        self.volume_pot = 0\n",
    "\n",
    "    \n",
    "    def add(self,amount, price):\n",
    "        self.qty += amount\n",
    "        val=price*amount\n",
    "        self.market_value += val\n",
    "        self.avg_price = self.market_value/self.qty\n",
    "\n",
    "         \n",
    "    def is_full(self):\n",
    "        return self.market_value >=StockBalance.positionValue\n",
    "    \n",
    "    def clear(self):\n",
    "        self.qty = 0\n",
    "        self.market_value = 0\n",
    "        self.avg_price = 0\n",
    "    \n",
    "    def volume_potensial(self, high, low, close, volume):\n",
    "        if close < UpperBandVol:\n",
    "            self.volume_pot = float(((abs(close-low)/abs(high-low))*volume)*0.05)\n",
    "        else: self.volume =0    \n",
    "        \n",
    "\n"
   ]
  },
  {
   "cell_type": "code",
   "execution_count": null,
   "id": "2f9be073",
   "metadata": {},
   "outputs": [],
   "source": []
  },
  {
   "cell_type": "code",
   "execution_count": 29,
   "id": "937fe3c5",
   "metadata": {},
   "outputs": [
    {
     "data": {
      "text/plain": [
       "False"
      ]
     },
     "execution_count": 29,
     "metadata": {},
     "output_type": "execute_result"
    }
   ],
   "source": [
    "mystock.is_full()"
   ]
  },
  {
   "cell_type": "code",
   "execution_count": 4,
   "id": "5ef8a1be",
   "metadata": {},
   "outputs": [],
   "source": [
    "def good_price(ticker_name,date_from_list):\n",
    "    \n",
    "    # function to calculate appropriate price\n",
    "    res = False\n",
    "    stock_ticker = yf.Ticker(ticker_name)\n",
    "    r = stock_ticker.history(max,\"1d\",date_from_list)\n",
    "    price = r.iloc[0][\"Close\"]\n",
    "    if price<price_filter:\n",
    "        res = True\n",
    "\n",
    "    return res\n"
   ]
  },
  {
   "cell_type": "code",
   "execution_count": 12,
   "id": "8f8438d5",
   "metadata": {},
   "outputs": [],
   "source": [
    "mystock.volume_potensial(0.53, 0.47, 0.5, 100000)"
   ]
  },
  {
   "cell_type": "code",
   "execution_count": 13,
   "id": "4c291a9a",
   "metadata": {},
   "outputs": [
    {
     "data": {
      "text/plain": [
       "2500.0"
      ]
     },
     "execution_count": 13,
     "metadata": {},
     "output_type": "execute_result"
    }
   ],
   "source": [
    "mystock.volume_pot"
   ]
  },
  {
   "cell_type": "code",
   "execution_count": null,
   "id": "f8d6f3ac",
   "metadata": {},
   "outputs": [],
   "source": []
  },
  {
   "cell_type": "code",
   "execution_count": 94,
   "id": "f5c7c732",
   "metadata": {},
   "outputs": [],
   "source": [
    "#reed.history(\"1mo\",\"1d\",\"2022-10-23\",\"2023-01-10\")\n"
   ]
  },
  {
   "cell_type": "code",
   "execution_count": 35,
   "id": "23c38abf",
   "metadata": {},
   "outputs": [
    {
     "name": "stdout",
     "output_type": "stream",
     "text": [
      "[*********************100%***********************]  1 of 1 completed\n"
     ]
    },
    {
     "ename": "ZeroDivisionError",
     "evalue": "float division by zero",
     "output_type": "error",
     "traceback": [
      "\u001b[1;31m---------------------------------------------------------------------------\u001b[0m",
      "\u001b[1;31mZeroDivisionError\u001b[0m                         Traceback (most recent call last)",
      "Input \u001b[1;32mIn [35]\u001b[0m, in \u001b[0;36m<cell line: 11>\u001b[1;34m()\u001b[0m\n\u001b[0;32m     84\u001b[0m             \u001b[38;5;66;03m# volume size block\u001b[39;00m\n\u001b[0;32m     85\u001b[0m             \n\u001b[0;32m     86\u001b[0m     \u001b[38;5;66;03m# The first opened position HERE I STOPED FOR THE NEXT TIME CODING\u001b[39;00m\n\u001b[0;32m     89\u001b[0m     \u001b[38;5;28;01mif\u001b[39;00m (status \u001b[38;5;241m==\u001b[39m\u001b[38;5;241m0\u001b[39m) \u001b[38;5;241m&\u001b[39m (openPosStatus \u001b[38;5;241m==\u001b[39m \u001b[38;5;28;01mTrue\u001b[39;00m) \u001b[38;5;241m&\u001b[39m (mystock\u001b[38;5;241m.\u001b[39mis_full()\u001b[38;5;241m==\u001b[39m\u001b[38;5;28;01mFalse\u001b[39;00m):\n\u001b[0;32m     90\u001b[0m         \u001b[38;5;66;03m#\u001b[39;00m\n\u001b[1;32m---> 92\u001b[0m         \u001b[43mmystock\u001b[49m\u001b[38;5;241;43m.\u001b[39;49m\u001b[43madd\u001b[49m\u001b[43m(\u001b[49m\u001b[43mrow\u001b[49m\u001b[43m[\u001b[49m\u001b[38;5;124;43m'\u001b[39;49m\u001b[38;5;124;43mVolumePoten\u001b[39;49m\u001b[38;5;124;43m'\u001b[39;49m\u001b[43m]\u001b[49m\u001b[43m,\u001b[49m\u001b[43m \u001b[49m\u001b[43mrow\u001b[49m\u001b[43m[\u001b[49m\u001b[38;5;124;43m'\u001b[39;49m\u001b[38;5;124;43mClose\u001b[39;49m\u001b[38;5;124;43m'\u001b[39;49m\u001b[43m]\u001b[49m\u001b[43m)\u001b[49m \u001b[38;5;66;03m# ДОПРАЦЮВАТИ\u001b[39;00m\n\u001b[0;32m     95\u001b[0m         \u001b[38;5;66;03m#if row['Close']<UpperBandVol:  # if price didn't rise more than upper band\u001b[39;00m\n\u001b[0;32m     96\u001b[0m             \u001b[38;5;66;03m# оцінюємо потенціал обєму\u001b[39;00m\n\u001b[0;32m     97\u001b[0m         \u001b[38;5;66;03m#mystock.volume_potensial(row['High'],row['Low'],row['Close'],row['Volume'])\u001b[39;00m\n\u001b[1;32m   (...)\u001b[0m\n\u001b[0;32m    102\u001b[0m         \n\u001b[0;32m    103\u001b[0m \u001b[38;5;66;03m#     # working with first opened position\u001b[39;00m\n\u001b[0;32m    104\u001b[0m     \u001b[38;5;28;01mif\u001b[39;00m (PriceOpen \u001b[38;5;241m>\u001b[39m\u001b[38;5;241m0\u001b[39m) \u001b[38;5;241m&\u001b[39m (status\u001b[38;5;241m==\u001b[39m\u001b[38;5;241m0\u001b[39m):\n",
      "Input \u001b[1;32mIn [31]\u001b[0m, in \u001b[0;36mStockBalance.add\u001b[1;34m(self, amount, price)\u001b[0m\n\u001b[0;32m     20\u001b[0m val\u001b[38;5;241m=\u001b[39mprice\u001b[38;5;241m*\u001b[39mamount\n\u001b[0;32m     21\u001b[0m \u001b[38;5;28mself\u001b[39m\u001b[38;5;241m.\u001b[39mmarket_value \u001b[38;5;241m+\u001b[39m\u001b[38;5;241m=\u001b[39m val\n\u001b[1;32m---> 22\u001b[0m \u001b[38;5;28mself\u001b[39m\u001b[38;5;241m.\u001b[39mavg_price \u001b[38;5;241m=\u001b[39m \u001b[38;5;28;43mself\u001b[39;49m\u001b[38;5;241;43m.\u001b[39;49m\u001b[43mmarket_value\u001b[49m\u001b[38;5;241;43m/\u001b[39;49m\u001b[38;5;28;43mself\u001b[39;49m\u001b[38;5;241;43m.\u001b[39;49m\u001b[43mqty\u001b[49m\n",
      "\u001b[1;31mZeroDivisionError\u001b[0m: float division by zero"
     ]
    }
   ],
   "source": [
    "# load ticker list from excel-file\n",
    "list_stocks = pd.read_excel('inputFiles/list_stocks.xlsx', index_col ='Company')\n",
    "all_res = []\n",
    "data_group=[]\n",
    "data_group_res=[]\n",
    "\n",
    "stock_res =[]\n",
    "stock_small_res=[]\n",
    "#len(list_stocks)\n",
    "\n",
    "for i in range(50): # потім прописати весь список\n",
    "    symbol = list_stocks.index[i] # беремо акцію по індексу\n",
    "\n",
    "    datefromlist = list_stocks.iloc[i]['NotDate']\n",
    "    #print('symbol=',symbol)\n",
    "    #print('datefromlist=',datefromlist)\n",
    "    if good_price(symbol,datefromlist)==False: # if price meet conditions\n",
    "        continue\n",
    "    \n",
    "    # this is blok where stock suit out coundition\n",
    "    mystock = StockBalance(symbol)\n",
    "    # to calc average volume use 20 days before\n",
    "    start_date = datefromlist - datetime.timedelta(days=19)                                           \n",
    "    end_date = datefromlist + datetime.timedelta(days=180)\n",
    "\n",
    "    \n",
    "\n",
    "    #load stock price\n",
    "    #symbol = list_stocks.index[i] # беремо акцію по індексу\n",
    "    wdf = yf.download(symbol, start_date, end_date)\n",
    "\n",
    "\n",
    "\n",
    "    # building features \n",
    "    wdf['avgvol']= wdf['Volume'].rolling(window=AvgVolDayLimit, win_type=None).mean()  # середній обєм за 10 днів\n",
    "    wdf['VolRise'] =wdf['Volume']/wdf['avgvol']-1      # building vol signal\n",
    "    wdf['PrevClose'] = wdf.Close.shift(1)      # write previous close\n",
    "    wdf['volsignal']=wdf['VolRise']>VolRise            # volume signal column\n",
    "    wdf['GreenCandleSig'] = wdf['High']>wdf['Close']   # green candle\n",
    "    wdf['HighGrowPrevClose'] = (wdf[\"High\"]/wdf['PrevClose']-1)> high_prevClose # high is bigger than previous low\n",
    "\n",
    "    wdf['TradeAfter']=wdf.index\n",
    "\n",
    "    wdf['TradeAfterDaysSig'] = wdf['TradeAfter'] > datefromlist + datetime.timedelta(days=TradeAfterDays)\n",
    "    wdf['OpenPrice']=0\n",
    "    wdf['openPosStatus']=False\n",
    "    wdf['VolumePoten']=0\n",
    "    wdf['Profit']=0\n",
    "    wdf['StopPrice']=0\n",
    "    wdf['TargetPrice']=0\n",
    "    wdf['Ticker']=symbol\n",
    "    del(wdf['TradeAfter'])\n",
    "    lastrow=wdf.tail(1).index # last row in order to stop calculations\n",
    "\n",
    "    # main module\n",
    "    PriceOpen = 0\n",
    "    StopPrice = 0\n",
    "    TPPrice = 0\n",
    "    CloseSignal = 0\n",
    "    status = 0\n",
    "    \n",
    "    \n",
    "    for index, row in wdf.iterrows():  # change to itter....\n",
    "        # looking for opening signal \n",
    "        mystock.volume_potensial(row['High'],row['Low'],row['Close'],row['Volume'])\n",
    "        wdf.at[index,'VolumePoten']= mystock.volume_pot    \n",
    "        \n",
    "        if (PriceOpen ==0) & (lastrow[0]!=index): # if we haven't opened position and it's not last row\n",
    "            \n",
    "            if row['volsignal'] & row['TradeAfterDaysSig'] & row['GreenCandleSig'] & row['HighGrowPrevClose']:  # if Volume > than AvgVolume and green candle and high more then \n",
    "                if row[\"Close\"]>price_filter: # if price for opening is bigger than limit - please skip it\n",
    "                    continue\n",
    "\n",
    "                # open position\n",
    "                openPosStatus = True  # there is signal \n",
    "                \n",
    "                wdf.at[index,'openPosStatus']= openPosStatus # record status in dataframe\n",
    "#                 PriceOpen = row['Close']  # record close price as price of open\n",
    "#                 wdf.at[index,'OpenPrice']= PriceOpen\n",
    "#                 StopPrice = PriceOpen-(PriceOpen*StopLoss*-1) # setting stop-loss\n",
    "#                 TPPrice = PriceOpen+(PriceOpen*ExitAfter)  # set target price\n",
    "                status=1\n",
    "                \n",
    "                # volume size block\n",
    "                \n",
    "        # The first opened position HERE I STOPED FOR THE NEXT TIME CODING\n",
    "               \n",
    "        \n",
    "        if (status ==0) & (openPosStatus == True) & (mystock.is_full()==False):\n",
    "            #\n",
    "            \n",
    "            mystock.add(row['VolumePoten'], row['Close']) # ДОПРАЦЮВАТИ\n",
    "            \n",
    "            \n",
    "            #if row['Close']<UpperBandVol:  # if price didn't rise more than upper band\n",
    "                # оцінюємо потенціал обєму\n",
    "            #mystock.volume_potensial(row['High'],row['Low'],row['Close'],row['Volume'])\n",
    "            #print(mystock.volume_pot)\n",
    "            #wdf.at[index,'VolumePoten']= mystock.volume_pot\n",
    "            \n",
    "\n",
    "            \n",
    "    #     # working with first opened position\n",
    "        if (PriceOpen >0) & (status==0):\n",
    "            wdf.at[index,'OpenPrice']= PriceOpen\n",
    "            wdf.at[index,'StopPrice']= StopPrice\n",
    "            wdf.at[index,'TargetPrice']= TPPrice\n",
    "\n",
    "\n",
    "            if row['High']>TPPrice:\n",
    "                wdf.at[index,'Profit']= RiskPertrade*ExitAfter\n",
    "                PriceOpen =0\n",
    "                TPPrice=0\n",
    "                StopPrice=0\n",
    "                openPosStatus=False\n",
    "                \n",
    "\n",
    "            if row['Low']<StopPrice:\n",
    "                wdf.at[index,'Profit']= RiskPertrade*StopLoss\n",
    "                PriceOpen =0\n",
    "                TPPrice=0\n",
    "                StopPrice=0\n",
    "                openPosStatus=False\n",
    "\n",
    "\n",
    "        status = 0    \n",
    "\n",
    "        # if there is open position and its last row\n",
    "        if lastrow[0]==index:\n",
    "            if PriceOpen >0:\n",
    "                wdf.at[index,'Profit']=(row['Close']/PriceOpen-1)*RiskPertrade\n",
    "                PriceOpen =0\n",
    "                TPPrice=0\n",
    "                StopPrice=0\n",
    "                openPosStatus=False\n",
    "   \n",
    "    \n",
    "    #тут закінчується блок перебору строк акції і йде на наступну акцію\n",
    "    # 1. тікер\n",
    "    # 2. profit\n",
    "    # 3. tradecount\n",
    "    # 4. ProfitTrades\n",
    "    #  5.   LossTrades\n",
    "    # 6.    WinRate\n",
    "    #7.     AvgHold'\n",
    "    \n",
    "    tradecount=(wdf['Profit']!=0).sum()\n",
    "    ProfitTrades = (wdf['Profit']>0).sum()\n",
    "    LossTrades = (wdf['Profit']<0).sum()\n",
    "    #WinRate = round(ProfitTrades/tradecount,1)\n",
    "    #AvgHold = round((wdf['OpenPrice']!=0).sum()/tradecount,1)\n",
    "    stock_small_res=[symbol,round(wdf['Profit'].sum(),2),tradecount,ProfitTrades,LossTrades]\n",
    "    \n",
    "    data_group=wdf['Profit']\n",
    "    stock_res.append(stock_small_res)\n",
    "    data_group_res.append(data_group)\n",
    "    # блок запису dataFrame:\n",
    "    all_res.append(wdf)\n",
    "      \n",
    "    df_output = pd.concat(all_res)\n",
    "    \n",
    "    df_data =pd.concat(data_group_res)\n",
    "    #df_data.columns['Profit']\n",
    "   # mask1 = df_data.Profit >0\n",
    "    #mask2 = df_data.Profit <0\n",
    "    #df_out= df_data.loc[df_data['Profit']!=0]\n",
    "\n",
    "\n",
    "\n",
    "    \n",
    "      \n",
    "        "
   ]
  },
  {
   "cell_type": "code",
   "execution_count": 23,
   "id": "b1353715",
   "metadata": {},
   "outputs": [
    {
     "data": {
      "text/plain": [
       "9768.963839960557"
      ]
     },
     "execution_count": 23,
     "metadata": {},
     "output_type": "execute_result"
    }
   ],
   "source": [
    "mystock.volume_pot\n"
   ]
  },
  {
   "cell_type": "code",
   "execution_count": 24,
   "id": "29a69b04",
   "metadata": {},
   "outputs": [],
   "source": [
    "stock_df = pd.DataFrame(stock_res, columns = ['Stock','Profit','TradeCount','ProfitTrades','LossTrades'])\n",
    "df_day = pd.DataFrame(df_data )\n",
    "df_day.index.name =\"Date\""
   ]
  },
  {
   "cell_type": "code",
   "execution_count": 26,
   "id": "f8c4c3b3",
   "metadata": {},
   "outputs": [],
   "source": [
    "df_day = df_day.loc[df_day['Profit']!=0] # remove 0 values\n",
    "df_day = df_day.groupby([df_day.index.date]).sum() # групуємо по даті\n"
   ]
  },
  {
   "cell_type": "code",
   "execution_count": 27,
   "id": "5bd4afb6",
   "metadata": {},
   "outputs": [
    {
     "data": {
      "text/html": [
       "<div>\n",
       "<style scoped>\n",
       "    .dataframe tbody tr th:only-of-type {\n",
       "        vertical-align: middle;\n",
       "    }\n",
       "\n",
       "    .dataframe tbody tr th {\n",
       "        vertical-align: top;\n",
       "    }\n",
       "\n",
       "    .dataframe thead th {\n",
       "        text-align: right;\n",
       "    }\n",
       "</style>\n",
       "<table border=\"1\" class=\"dataframe\">\n",
       "  <thead>\n",
       "    <tr style=\"text-align: right;\">\n",
       "      <th></th>\n",
       "      <th>Profit</th>\n",
       "    </tr>\n",
       "  </thead>\n",
       "  <tbody>\n",
       "  </tbody>\n",
       "</table>\n",
       "</div>"
      ],
      "text/plain": [
       "Empty DataFrame\n",
       "Columns: [Profit]\n",
       "Index: []"
      ]
     },
     "execution_count": 27,
     "metadata": {},
     "output_type": "execute_result"
    }
   ],
   "source": [
    "df_day.sort_index()\n"
   ]
  },
  {
   "cell_type": "code",
   "execution_count": 28,
   "id": "36f5ccaf",
   "metadata": {},
   "outputs": [],
   "source": [
    "with pd.ExcelWriter(\"outputFiles/output.xlsx\") as writer:\n",
    "   \n",
    "    # use to_excel function and specify the sheet_name and index\n",
    "    # to store the dataframe in specified sheet\n",
    "    df_output.to_excel(writer, sheet_name=\"full_B\")\n",
    "    df_day.to_excel(writer, sheet_name=\"by date\")\n",
    "    stock_df.to_excel(writer, sheet_name=\"statByStock\")"
   ]
  },
  {
   "cell_type": "code",
   "execution_count": null,
   "id": "4c9ad6a9",
   "metadata": {},
   "outputs": [],
   "source": [
    "\n"
   ]
  },
  {
   "cell_type": "code",
   "execution_count": 101,
   "id": "51ab625e",
   "metadata": {},
   "outputs": [],
   "source": [
    "#testDF = yf.download(\"AEI\", \"2022-10-01\", \"2022-12-10\",back_adjust=True)"
   ]
  },
  {
   "cell_type": "code",
   "execution_count": null,
   "id": "7077fce4",
   "metadata": {},
   "outputs": [],
   "source": []
  },
  {
   "cell_type": "code",
   "execution_count": null,
   "id": "f627b623",
   "metadata": {},
   "outputs": [],
   "source": []
  }
 ],
 "metadata": {
  "kernelspec": {
   "display_name": "Python 3 (ipykernel)",
   "language": "python",
   "name": "python3"
  },
  "language_info": {
   "codemirror_mode": {
    "name": "ipython",
    "version": 3
   },
   "file_extension": ".py",
   "mimetype": "text/x-python",
   "name": "python",
   "nbconvert_exporter": "python",
   "pygments_lexer": "ipython3",
   "version": "3.9.12"
  },
  "vscode": {
   "interpreter": {
    "hash": "886144a58bec86b3cdfa2159d8b6e0802c6b955003a58eface4eabeb68a115ca"
   }
  }
 },
 "nbformat": 4,
 "nbformat_minor": 5
}
