{
 "cells": [
  {
   "cell_type": "markdown",
   "id": "6b1e996e",
   "metadata": {},
   "source": [
    "# Penny Stock Model"
   ]
  },
  {
   "cell_type": "code",
   "execution_count": 238,
   "id": "f64ba5a1",
   "metadata": {},
   "outputs": [],
   "source": [
    "# import libraries\n",
    "import pandas as pd\n",
    "import yfinance as yf\n",
    "import numpy as np\n",
    "import datetime"
   ]
  },
  {
   "cell_type": "code",
   "execution_count": 239,
   "id": "f65c9313",
   "metadata": {},
   "outputs": [],
   "source": [
    "# parameters\n",
    "VolRise = 0.99        # open position, after current volume will be more than VolRise value\n",
    "AvgVolDayLimit = 10   # average for shifting average\n",
    "ExitAfter = 0.25      # close position after price achieve ExitAfter\n",
    "StopLoss = -0.07      # close position after price meets stop\n",
    "RiskPertrade = 2000   # buy for sum \n",
    "TradeAfterDays = 3    # begin trade after TradeAfterDays days from start\n",
    "price_filter = 0.5     # below this price we open pos\n",
    "price_Stock_filter = 5  # above this price we don't load stock\n",
    "high_prevClose = 0.1 # if high more than previous close on high_prevClose\n",
    "UpperBandVol = 0.7      # if price is in range of  UpperBandVol and LowwerBandVol - please take a volume\n",
    "LowwerBandVol = 0.09    #   if price is in range of  UpperBandVol and LowwerBandVol - please take a volume\n",
    "positionValue = 10000   # the sum you need to collect\n",
    "openPosStatus = False \n",
    "volume_potensial =0 \n",
    "close_signal = 4       # 1 = 100% growth, 2 = growth to $1 price, 3 = hold position for 1 month, 4 = after achieving 100% growth, close when price falls below SMA5\n",
    "\n",
    "\n"
   ]
  },
  {
   "cell_type": "code",
   "execution_count": null,
   "id": "482ef4e8",
   "metadata": {},
   "outputs": [],
   "source": []
  },
  {
   "cell_type": "code",
   "execution_count": null,
   "id": "46ef7335",
   "metadata": {},
   "outputs": [],
   "source": []
  },
  {
   "cell_type": "code",
   "execution_count": 240,
   "id": "1fe5694c",
   "metadata": {
    "tags": []
   },
   "outputs": [],
   "source": [
    "# дата старту набору позиції\n",
    "# дата закінчення набору позиції\n",
    "class StockBalance():\n",
    "    positionValue = 10000\n",
    "   \n",
    "    def __init__(self, ticker):\n",
    "        self.ticker = ticker\n",
    "        self.market_value = 0\n",
    "        self.date_end_pos = 0 # last date when we collect stock\n",
    "        self.qty = 0\n",
    "        self.avg_price = 0\n",
    "        self.volume_pot = 0\n",
    "        self.need = positionValue\n",
    "        \n",
    "\n",
    "    \n",
    "    def add(self,amount, price, posdate):\n",
    "        self.qty += amount\n",
    "        val=price*amount\n",
    "        self.market_value += val\n",
    "        self.avg_price = self.market_value/self.qty\n",
    "        self.date_end_pos = posdate\n",
    "\n",
    "    \n",
    "    def is_full(self):\n",
    "        return self.market_value >=StockBalance.positionValue\n",
    "    \n",
    "    def clear(self):\n",
    "        self.qty = 0\n",
    "        self.market_value = 0\n",
    "        self.avg_price = 0\n",
    "    \n",
    "    def volume_potensial(self, high, low, close, volume):\n",
    "        \n",
    "        if abs(high-low)==0:\n",
    "            self.volume_pot\n",
    "        else:\n",
    "            self.volume_pot = ((abs(close-low)/abs(high-low))*volume)*0.05\n",
    "        if self.volume_pot == 0 :\n",
    "            self.volume_pot = volume*0.05\n",
    "        \n",
    "    def isclosesignal(self, nom_of_sig, price, cur_date, smaprice):\n",
    "        if self.market_value>0:  # if there is open position\n",
    "            \n",
    "            if nom_of_sig == 1:\n",
    "                if (price > self.avg_price*2):\n",
    "                    return True\n",
    "            if nom_of_sig == 2:\n",
    "                if self.avg_price>1:\n",
    "                    return True\n",
    "            if nom_of_sig == 3:\n",
    "                if (cur_date-self.date_end_pos)> datetime.timedelta(20): \n",
    "                    return True\n",
    "            if nom_of_sig == 4:\n",
    "                if (price > self.avg_price*2) & (price < smaprice):\n",
    "                    return True\n",
    "        else:\n",
    "            return False\n",
    "      \n",
    "    def stoptrade(self,curentdate,lastdate):\n",
    "        \n",
    "        if self.market_value>0:\n",
    "            \n",
    "        # check is it time to close position\n",
    "            if (curentdate-datefromlist)>datetime.timedelta(160):\n",
    "                return True\n",
    "        \n",
    "            if lastdate==curentdate: # if we reached last row\n",
    "                return True\n",
    "        \n",
    "        \n",
    "        "
   ]
  },
  {
   "cell_type": "code",
   "execution_count": null,
   "id": "2f9be073",
   "metadata": {},
   "outputs": [],
   "source": []
  },
  {
   "cell_type": "code",
   "execution_count": null,
   "id": "937fe3c5",
   "metadata": {},
   "outputs": [],
   "source": []
  },
  {
   "cell_type": "code",
   "execution_count": 241,
   "id": "5ef8a1be",
   "metadata": {},
   "outputs": [],
   "source": [
    "def good_price(ticker_name,date_from_list):\n",
    "    \n",
    "    # function to calculate appropriate price\n",
    "    res = False\n",
    "    stock_ticker = yf.Ticker(ticker_name)\n",
    "    r = stock_ticker.history(max,\"1d\",date_from_list)\n",
    "    price = r.iloc[0][\"Close\"]\n",
    "    if price<price_Stock_filter:\n",
    "        res = True\n",
    "\n",
    "    return res\n"
   ]
  },
  {
   "cell_type": "code",
   "execution_count": 242,
   "id": "f5c7c732",
   "metadata": {},
   "outputs": [],
   "source": [
    "#reed.history(\"1mo\",\"1d\",\"2022-10-23\",\"2023-01-10\")\n"
   ]
  },
  {
   "cell_type": "code",
   "execution_count": 259,
   "id": "23c38abf",
   "metadata": {},
   "outputs": [
    {
     "name": "stdout",
     "output_type": "stream",
     "text": [
      "[*********************100%***********************]  1 of 1 completed\n",
      "[*********************100%***********************]  1 of 1 completed\n",
      "[*********************100%***********************]  1 of 1 completed\n",
      "[*********************100%***********************]  1 of 1 completed\n",
      "[*********************100%***********************]  1 of 1 completed\n",
      "[*********************100%***********************]  1 of 1 completed\n",
      "[*********************100%***********************]  1 of 1 completed\n",
      "[*********************100%***********************]  1 of 1 completed\n",
      "[*********************100%***********************]  1 of 1 completed\n",
      "[*********************100%***********************]  1 of 1 completed\n",
      "[*********************100%***********************]  1 of 1 completed\n",
      "[*********************100%***********************]  1 of 1 completed\n",
      "[*********************100%***********************]  1 of 1 completed\n",
      "[*********************100%***********************]  1 of 1 completed\n",
      "[*********************100%***********************]  1 of 1 completed\n",
      "[*********************100%***********************]  1 of 1 completed\n",
      "[*********************100%***********************]  1 of 1 completed\n",
      "[*********************100%***********************]  1 of 1 completed\n",
      "[*********************100%***********************]  1 of 1 completed\n",
      "[*********************100%***********************]  1 of 1 completed\n",
      "[*********************100%***********************]  1 of 1 completed\n",
      "[*********************100%***********************]  1 of 1 completed\n",
      "[*********************100%***********************]  1 of 1 completed\n",
      "[*********************100%***********************]  1 of 1 completed\n",
      "[*********************100%***********************]  1 of 1 completed\n",
      "[*********************100%***********************]  1 of 1 completed\n",
      "[*********************100%***********************]  1 of 1 completed\n",
      "[*********************100%***********************]  1 of 1 completed\n",
      "[*********************100%***********************]  1 of 1 completed\n",
      "[*********************100%***********************]  1 of 1 completed\n",
      "[*********************100%***********************]  1 of 1 completed\n",
      "[*********************100%***********************]  1 of 1 completed\n",
      "[*********************100%***********************]  1 of 1 completed\n"
     ]
    }
   ],
   "source": [
    "# load ticker list from excel-file\n",
    "list_stocks = pd.read_excel('inputFiles/list_stocks.xlsx', index_col ='Company')\n",
    "all_res = []\n",
    "data_group=[]\n",
    "data_group_res=[]\n",
    "\n",
    "stock_res =[]\n",
    "stock_small_res=[]\n",
    "#len(list_stocks)\n",
    "\n",
    "# here begin to iterate between stocks\n",
    "for i in range(50): # потім прописати весь список\n",
    "    symbol = list_stocks.index[i] # беремо акцію по індексу\n",
    "\n",
    "    datefromlist = list_stocks.iloc[i]['NotDate']\n",
    "    #print('symbol=',symbol)\n",
    "    #print('datefromlist=',datefromlist)\n",
    "    \n",
    "    # error it may be situation, when price is fall down \n",
    "    if good_price(symbol,datefromlist)==False: # if price meet conditions\n",
    "        continue\n",
    "    \n",
    "    # this is blok where stock suit out coundition\n",
    "    mystock = StockBalance(symbol)\n",
    "    openPosStatus = False\n",
    "    # to calc average volume use 20 days before\n",
    "    start_date = datefromlist - datetime.timedelta(days=19)                                           \n",
    "    end_date = datefromlist + datetime.timedelta(days=180)\n",
    "\n",
    "    \n",
    "\n",
    "    #load stock price\n",
    "    #symbol = list_stocks.index[i] # беремо акцію по індексу\n",
    "    wdf = yf.download(symbol, start_date, end_date)\n",
    "\n",
    "\n",
    "\n",
    "    # building features in working dataframe\n",
    "    wdf['avgvol']= wdf['Volume'].rolling(window=AvgVolDayLimit, win_type=None).mean()  # середній обєм за 10 днів\n",
    "    wdf['VolRise'] =wdf['Volume']/wdf['avgvol']-1      # building vol signal\n",
    "    wdf['SMA5']= wdf['Close'].rolling(5).mean()\n",
    "    wdf['PrevClose'] = wdf.Close.shift(1)      # write previous close\n",
    "    wdf['volsignal']=wdf['VolRise']>VolRise            # volume signal column\n",
    "    wdf['GreenCandleSig'] = wdf['Close']>wdf['Open']   # green candle\n",
    "    wdf['HighGrowPrevClose'] = (wdf[\"High\"]/wdf['PrevClose']-1)> high_prevClose # high is bigger than previous low\n",
    "    wdf['TradeAfter']=wdf.index\n",
    "    wdf['TradeAfterDaysSig'] = wdf['TradeAfter'] > datefromlist + datetime.timedelta(days=TradeAfterDays)\n",
    "    wdf['OpenPrice']=0\n",
    "    wdf['openPosStatus']=False\n",
    "    wdf['VolumePoten']=0\n",
    "    wdf['MarketValue']=0\n",
    "    wdf['AvgPrice']=0\n",
    "    wdf['Profit']=0\n",
    "    wdf['test']=\"\"\n",
    "    wdf['StopPrice']=0\n",
    "    wdf['TargetPrice']=0\n",
    "    wdf['Ticker']=symbol\n",
    "    del(wdf['TradeAfter'])\n",
    "    lastrow=wdf.tail(1).index # last row in order to stop calculations\n",
    "\n",
    "    # main module\n",
    "    PriceOpen = 0\n",
    "    StopPrice = 0\n",
    "    TPPrice = 0\n",
    "    CloseSignal = 0\n",
    "    status = 0\n",
    "    \n",
    "    \n",
    "    for index, row in wdf.iterrows():  # change to itertuple....\n",
    "        \n",
    "        # calculate volume potential\n",
    "        mystock.volume_potensial(row['High'],row['Low'],row['Close'],row['Volume'])\n",
    "        wdf.at[index,'VolumePoten']= mystock.volume_pot    \n",
    "        \n",
    "        # looking for opening signal \n",
    "        if (mystock.market_value ==0) & ((index-datefromlist)<datetime.timedelta(150)): #  if we haven't opened position and we have 150 days \n",
    "            \n",
    "            if row['volsignal'] & row['TradeAfterDaysSig'] & row['GreenCandleSig'] & row['HighGrowPrevClose']:  # if Volume > than AvgVolume and green candle and high more then \n",
    "                if row[\"Close\"]>price_filter: # if price for opening is bigger than limit - please skip it\n",
    "                    continue\n",
    "\n",
    "                # YES we find signal day\n",
    "                openPosStatus = True  # there is signal \n",
    "                wdf.at[index,'openPosStatus']= openPosStatus # record status in dataframe\n",
    "                status=1\n",
    "                \n",
    "                # volume size block\n",
    "                \n",
    "        # the next day after signal appear we check condition in order to open position\n",
    "        # if all conditions suit - we continue to collect positions\n",
    "        if (status ==0) & (openPosStatus == True) & (mystock.is_full()==False) & ((index-datefromlist)<datetime.timedelta(150)) :\n",
    "            #\n",
    "            # calc how many money we need to collect\n",
    "            # how much capital we need\n",
    "            need_cap = positionValue - mystock.market_value \n",
    "            mid_price = (row['Close']+row['Open'])/2 # take avg.price for position\n",
    "            \n",
    "            if need_cap >=0:\n",
    "                if (mid_price * wdf.at[index,'VolumePoten']) >= need_cap: # if potensial suit our demand\n",
    "                    size = need_cap/mid_price\n",
    "                    mystock.add(size, mid_price, index)\n",
    "                    wdf.at[index,'Profit']= (size*mid_price)*-1\n",
    "                    \n",
    "                    \n",
    "                else: \n",
    "                    \n",
    "                    amount = wdf.at[index,'VolumePoten']\n",
    "                    mystock.add(amount, mid_price, index)\n",
    "                    wdf.at[index,'Profit']= (amount*mid_price)*-1\n",
    "            \n",
    "            # record MarketValue\n",
    "            wdf.at[index,'MarketValue']= mystock.market_value\n",
    "            wdf.at[index,'AvgPrice']= mystock.avg_price\n",
    "            \n",
    "            \n",
    "        if mystock.is_full()==True: # position is full we waiting for close signal\n",
    "            openPosStatus == False\n",
    "            \n",
    "    #     # working with first opened position\n",
    "        if (mystock.isclosesignal(close_signal, row['Close'], index, row['SMA5']) == True):\n",
    "            # ready to close position\n",
    "            mid_price = (row['Close']+row['Open'])/2 # take avg.price for position\n",
    "            \n",
    "            if wdf.at[index,'VolumePoten'] > mystock.qty: # close full position\n",
    "                wdf.at[index,'Profit']= mystock.qty*mid_price\n",
    "                mystock.clear() # clear market value, qty, avg.price\n",
    "            else:\n",
    "                wdf.at[index,'Profit']= wdf.at[index,'VolumePoten'] * mid_price # take all avaible stocks\n",
    "                mystock.qty=(mystock.qty-wdf.at[index,'VolumePoten']) # decrease stock count \n",
    "        \n",
    "        \n",
    "        if mystock.stoptrade(index,lastrow[0])==True:\n",
    "            \n",
    "            wdf.at[index,'Profit']=-1000000\n",
    "        \n",
    "#         \n",
    "\n",
    "        status = 0    \n",
    "\n",
    "        # if there is open position and its last row\n",
    "        if lastrow[0]==index:\n",
    "            if PriceOpen >0:\n",
    "                wdf.at[index,'Profit']=(row['Close']/PriceOpen-1)*RiskPertrade\n",
    "                PriceOpen =0\n",
    "                TPPrice=0\n",
    "                StopPrice=0\n",
    "                openPosStatus=False\n",
    "   \n",
    "             \n",
    "    #тут закінчується блок перебору строк акції і йде на наступну акцію\n",
    "    # 1. тікер\n",
    "    # 2. profit\n",
    "    # 3. tradecount\n",
    "    # 4. ProfitTrades\n",
    "    #  5.   LossTrades\n",
    "    # 6.    WinRate\n",
    "    #7.     AvgHold'\n",
    "    \n",
    "    tradecount=(wdf['Profit']!=0).sum()\n",
    "    ProfitTrades = (wdf['Profit']>0).sum()\n",
    "    LossTrades = (wdf['Profit']<0).sum()\n",
    "    #WinRate = round(ProfitTrades/tradecount,1)\n",
    "    #AvgHold = round((wdf['OpenPrice']!=0).sum()/tradecount,1)\n",
    "    stock_small_res=[symbol,round(wdf['Profit'].sum(),2),tradecount,ProfitTrades,LossTrades]\n",
    "    \n",
    "    data_group=wdf['Profit']\n",
    "    stock_res.append(stock_small_res)\n",
    "    data_group_res.append(data_group)\n",
    "    # блок запису dataFrame:\n",
    "    all_res.append(wdf)\n",
    "      \n",
    "    df_output = pd.concat(all_res)\n",
    "    \n",
    "    df_data =pd.concat(data_group_res)\n",
    "    #df_data.columns['Profit']\n",
    "   # mask1 = df_data.Profit >0\n",
    "    #mask2 = df_data.Profit <0\n",
    "    #df_out= df_data.loc[df_data['Profit']!=0]\n",
    "\n",
    "\n",
    "\n",
    "    \n",
    "      \n",
    "        "
   ]
  },
  {
   "cell_type": "code",
   "execution_count": 244,
   "id": "b1353715",
   "metadata": {},
   "outputs": [
    {
     "data": {
      "text/plain": [
       "0"
      ]
     },
     "execution_count": 244,
     "metadata": {},
     "output_type": "execute_result"
    }
   ],
   "source": [
    "mystock.avg_price\n"
   ]
  },
  {
   "cell_type": "code",
   "execution_count": 260,
   "id": "29a69b04",
   "metadata": {},
   "outputs": [],
   "source": [
    "stock_df = pd.DataFrame(stock_res, columns = ['Stock','Profit','TradeCount','ProfitTrades','LossTrades'])\n",
    "df_day = pd.DataFrame(df_data )\n",
    "df_day.index.name =\"Date\"\n",
    "\n",
    "df_day = df_day.loc[df_day['Profit']!=0] # remove 0 values\n",
    "df_day = df_day.groupby([df_day.index.date]).sum() # групуємо по даті\n",
    "\n",
    "\n",
    "df_day.sort_index()\n",
    "\n",
    "\n",
    "with pd.ExcelWriter(\"outputFiles/output.xlsx\") as writer:\n",
    "   \n",
    "    # use to_excel function and specify the sheet_name and index\n",
    "    # to store the dataframe in specified sheet\n",
    "    df_output.to_excel(writer, sheet_name=\"full_B\")\n",
    "    df_day.to_excel(writer, sheet_name=\"by date\")\n",
    "    stock_df.to_excel(writer, sheet_name=\"statByStock\")"
   ]
  },
  {
   "cell_type": "code",
   "execution_count": 246,
   "id": "4c9ad6a9",
   "metadata": {},
   "outputs": [
    {
     "data": {
      "text/plain": [
       "0"
      ]
     },
     "execution_count": 246,
     "metadata": {},
     "output_type": "execute_result"
    }
   ],
   "source": [
    "mystock.date_end_pos"
   ]
  },
  {
   "cell_type": "code",
   "execution_count": 247,
   "id": "51ab625e",
   "metadata": {},
   "outputs": [],
   "source": [
    "#testDF = yf.download(\"AEI\", \"2022-10-01\", \"2022-12-10\",back_adjust=True)"
   ]
  },
  {
   "cell_type": "code",
   "execution_count": null,
   "id": "7077fce4",
   "metadata": {},
   "outputs": [],
   "source": []
  },
  {
   "cell_type": "code",
   "execution_count": 248,
   "id": "f627b623",
   "metadata": {},
   "outputs": [
    {
     "data": {
      "text/plain": [
       "'LPTX'"
      ]
     },
     "execution_count": 248,
     "metadata": {},
     "output_type": "execute_result"
    }
   ],
   "source": [
    "mystock.ticker"
   ]
  },
  {
   "cell_type": "code",
   "execution_count": 249,
   "id": "350f9783-928e-4521-a360-bb671808cfb7",
   "metadata": {},
   "outputs": [
    {
     "data": {
      "text/plain": [
       "0"
      ]
     },
     "execution_count": 249,
     "metadata": {},
     "output_type": "execute_result"
    }
   ],
   "source": [
    "mystock.avg_price"
   ]
  },
  {
   "cell_type": "code",
   "execution_count": 250,
   "id": "cb2b6d55-745e-4f7e-b9c6-56f42e84c5dd",
   "metadata": {},
   "outputs": [],
   "source": [
    "d1 = '2023-01-01'\n"
   ]
  },
  {
   "cell_type": "code",
   "execution_count": 251,
   "id": "625c0e2c-4699-490c-a031-e81cd36fd5e3",
   "metadata": {},
   "outputs": [
    {
     "data": {
      "text/plain": [
       "Timestamp('2022-02-11 00:00:00')"
      ]
     },
     "execution_count": 251,
     "metadata": {},
     "output_type": "execute_result"
    }
   ],
   "source": [
    "datefromlist"
   ]
  },
  {
   "cell_type": "code",
   "execution_count": 252,
   "id": "319f9bc7-be6a-480e-9eff-5a12188dab48",
   "metadata": {},
   "outputs": [
    {
     "data": {
      "text/plain": [
       "True"
      ]
     },
     "execution_count": 252,
     "metadata": {},
     "output_type": "execute_result"
    }
   ],
   "source": [
    "(index - datefromlist) > datetime.timedelta(20)"
   ]
  },
  {
   "cell_type": "code",
   "execution_count": 253,
   "id": "f8b839e1-0a08-4a21-a85d-2061698d9b92",
   "metadata": {},
   "outputs": [
    {
     "data": {
      "text/plain": [
       "Timestamp('2022-08-09 00:00:00')"
      ]
     },
     "execution_count": 253,
     "metadata": {},
     "output_type": "execute_result"
    }
   ],
   "source": [
    "index"
   ]
  },
  {
   "cell_type": "code",
   "execution_count": 254,
   "id": "94f8a09c-dcf5-43fb-bf7b-38539222ebfd",
   "metadata": {},
   "outputs": [
    {
     "data": {
      "text/plain": [
       "Timestamp('2022-08-09 00:00:00')"
      ]
     },
     "execution_count": 254,
     "metadata": {},
     "output_type": "execute_result"
    }
   ],
   "source": [
    "lastrow[0]"
   ]
  },
  {
   "cell_type": "code",
   "execution_count": 255,
   "id": "53200efa-f868-4686-87f4-3f4acfafd8a5",
   "metadata": {},
   "outputs": [
    {
     "name": "stdout",
     "output_type": "stream",
     "text": [
      "ok\n"
     ]
    }
   ],
   "source": [
    "if index==lastrow[0]: print('ok')"
   ]
  },
  {
   "cell_type": "code",
   "execution_count": 256,
   "id": "76d1ff17-f874-4998-8fea-3cda1a2f1f02",
   "metadata": {},
   "outputs": [
    {
     "data": {
      "text/plain": [
       "False"
      ]
     },
     "execution_count": 256,
     "metadata": {},
     "output_type": "execute_result"
    }
   ],
   "source": [
    "(index-datefromlist)<datetime.timedelta(150)"
   ]
  },
  {
   "cell_type": "code",
   "execution_count": null,
   "id": "0a4c576d-3fab-4dee-92ed-36f2564b353f",
   "metadata": {},
   "outputs": [],
   "source": []
  }
 ],
 "metadata": {
  "kernelspec": {
   "display_name": "Python 3 (ipykernel)",
   "language": "python",
   "name": "python3"
  },
  "language_info": {
   "codemirror_mode": {
    "name": "ipython",
    "version": 3
   },
   "file_extension": ".py",
   "mimetype": "text/x-python",
   "name": "python",
   "nbconvert_exporter": "python",
   "pygments_lexer": "ipython3",
   "version": "3.9.12"
  },
  "vscode": {
   "interpreter": {
    "hash": "886144a58bec86b3cdfa2159d8b6e0802c6b955003a58eface4eabeb68a115ca"
   }
  }
 },
 "nbformat": 4,
 "nbformat_minor": 5
}
