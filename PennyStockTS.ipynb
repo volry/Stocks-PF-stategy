{
 "cells": [
  {
   "cell_type": "markdown",
   "id": "6b1e996e",
   "metadata": {},
   "source": [
    "# Penny Stock Model"
   ]
  },
  {
   "cell_type": "code",
   "execution_count": 1,
   "id": "f64ba5a1",
   "metadata": {},
   "outputs": [],
   "source": [
    "# import libraries\n",
    "import pandas as pd\n",
    "import yfinance as yf\n",
    "import numpy as np\n",
    "import datetime"
   ]
  },
  {
   "cell_type": "code",
   "execution_count": 2,
   "id": "f65c9313",
   "metadata": {},
   "outputs": [],
   "source": [
    "# parameters\n",
    "VolRise = 0.2  # open position, after current volume will be more than VolRise value\n",
    "ExitAfter = 0.25 # close position after price achieve ExitAfter\n",
    "StopLoss = -0.07 # close position after price meets stop\n",
    "RiskPertrade = 2000 # buy for sum \n",
    "TradeAfterDays = 150 # begin trade after TradeAfterDays days from start\n"
   ]
  },
  {
   "cell_type": "code",
   "execution_count": null,
   "id": "5ef8a1be",
   "metadata": {},
   "outputs": [],
   "source": []
  },
  {
   "cell_type": "code",
   "execution_count": null,
   "id": "5c716e14",
   "metadata": {},
   "outputs": [],
   "source": []
  },
  {
   "cell_type": "code",
   "execution_count": null,
   "id": "f5c7c732",
   "metadata": {},
   "outputs": [],
   "source": []
  },
  {
   "cell_type": "code",
   "execution_count": 11,
   "id": "23c38abf",
   "metadata": {},
   "outputs": [
    {
     "ename": "FileNotFoundError",
     "evalue": "[Errno 2] No such file or directory: 'list_stocks.xlsx'",
     "output_type": "error",
     "traceback": [
      "\u001b[1;31m---------------------------------------------------------------------------\u001b[0m",
      "\u001b[1;31mFileNotFoundError\u001b[0m                         Traceback (most recent call last)",
      "Input \u001b[1;32mIn [11]\u001b[0m, in \u001b[0;36m<cell line: 2>\u001b[1;34m()\u001b[0m\n\u001b[0;32m      1\u001b[0m \u001b[38;5;66;03m# load ticker list from excel-file\u001b[39;00m\n\u001b[1;32m----> 2\u001b[0m list_stocks \u001b[38;5;241m=\u001b[39m \u001b[43mpd\u001b[49m\u001b[38;5;241;43m.\u001b[39;49m\u001b[43mread_excel\u001b[49m\u001b[43m(\u001b[49m\u001b[38;5;124;43m'\u001b[39;49m\u001b[38;5;124;43mlist_stocks.xlsx\u001b[39;49m\u001b[38;5;124;43m'\u001b[39;49m\u001b[43m,\u001b[49m\u001b[43m \u001b[49m\u001b[43mindex_col\u001b[49m\u001b[43m \u001b[49m\u001b[38;5;241;43m=\u001b[39;49m\u001b[38;5;124;43m'\u001b[39;49m\u001b[38;5;124;43mCompany\u001b[39;49m\u001b[38;5;124;43m'\u001b[39;49m\u001b[43m)\u001b[49m\n\u001b[0;32m      3\u001b[0m all_res \u001b[38;5;241m=\u001b[39m []\n\u001b[0;32m      4\u001b[0m data_group\u001b[38;5;241m=\u001b[39m[]\n",
      "File \u001b[1;32m~\\anaconda3\\lib\\site-packages\\pandas\\util\\_decorators.py:311\u001b[0m, in \u001b[0;36mdeprecate_nonkeyword_arguments.<locals>.decorate.<locals>.wrapper\u001b[1;34m(*args, **kwargs)\u001b[0m\n\u001b[0;32m    305\u001b[0m \u001b[38;5;28;01mif\u001b[39;00m \u001b[38;5;28mlen\u001b[39m(args) \u001b[38;5;241m>\u001b[39m num_allow_args:\n\u001b[0;32m    306\u001b[0m     warnings\u001b[38;5;241m.\u001b[39mwarn(\n\u001b[0;32m    307\u001b[0m         msg\u001b[38;5;241m.\u001b[39mformat(arguments\u001b[38;5;241m=\u001b[39marguments),\n\u001b[0;32m    308\u001b[0m         \u001b[38;5;167;01mFutureWarning\u001b[39;00m,\n\u001b[0;32m    309\u001b[0m         stacklevel\u001b[38;5;241m=\u001b[39mstacklevel,\n\u001b[0;32m    310\u001b[0m     )\n\u001b[1;32m--> 311\u001b[0m \u001b[38;5;28;01mreturn\u001b[39;00m func(\u001b[38;5;241m*\u001b[39margs, \u001b[38;5;241m*\u001b[39m\u001b[38;5;241m*\u001b[39mkwargs)\n",
      "File \u001b[1;32m~\\anaconda3\\lib\\site-packages\\pandas\\io\\excel\\_base.py:457\u001b[0m, in \u001b[0;36mread_excel\u001b[1;34m(io, sheet_name, header, names, index_col, usecols, squeeze, dtype, engine, converters, true_values, false_values, skiprows, nrows, na_values, keep_default_na, na_filter, verbose, parse_dates, date_parser, thousands, decimal, comment, skipfooter, convert_float, mangle_dupe_cols, storage_options)\u001b[0m\n\u001b[0;32m    455\u001b[0m \u001b[38;5;28;01mif\u001b[39;00m \u001b[38;5;129;01mnot\u001b[39;00m \u001b[38;5;28misinstance\u001b[39m(io, ExcelFile):\n\u001b[0;32m    456\u001b[0m     should_close \u001b[38;5;241m=\u001b[39m \u001b[38;5;28;01mTrue\u001b[39;00m\n\u001b[1;32m--> 457\u001b[0m     io \u001b[38;5;241m=\u001b[39m \u001b[43mExcelFile\u001b[49m\u001b[43m(\u001b[49m\u001b[43mio\u001b[49m\u001b[43m,\u001b[49m\u001b[43m \u001b[49m\u001b[43mstorage_options\u001b[49m\u001b[38;5;241;43m=\u001b[39;49m\u001b[43mstorage_options\u001b[49m\u001b[43m,\u001b[49m\u001b[43m \u001b[49m\u001b[43mengine\u001b[49m\u001b[38;5;241;43m=\u001b[39;49m\u001b[43mengine\u001b[49m\u001b[43m)\u001b[49m\n\u001b[0;32m    458\u001b[0m \u001b[38;5;28;01melif\u001b[39;00m engine \u001b[38;5;129;01mand\u001b[39;00m engine \u001b[38;5;241m!=\u001b[39m io\u001b[38;5;241m.\u001b[39mengine:\n\u001b[0;32m    459\u001b[0m     \u001b[38;5;28;01mraise\u001b[39;00m \u001b[38;5;167;01mValueError\u001b[39;00m(\n\u001b[0;32m    460\u001b[0m         \u001b[38;5;124m\"\u001b[39m\u001b[38;5;124mEngine should not be specified when passing \u001b[39m\u001b[38;5;124m\"\u001b[39m\n\u001b[0;32m    461\u001b[0m         \u001b[38;5;124m\"\u001b[39m\u001b[38;5;124man ExcelFile - ExcelFile already has the engine set\u001b[39m\u001b[38;5;124m\"\u001b[39m\n\u001b[0;32m    462\u001b[0m     )\n",
      "File \u001b[1;32m~\\anaconda3\\lib\\site-packages\\pandas\\io\\excel\\_base.py:1376\u001b[0m, in \u001b[0;36mExcelFile.__init__\u001b[1;34m(self, path_or_buffer, engine, storage_options)\u001b[0m\n\u001b[0;32m   1374\u001b[0m     ext \u001b[38;5;241m=\u001b[39m \u001b[38;5;124m\"\u001b[39m\u001b[38;5;124mxls\u001b[39m\u001b[38;5;124m\"\u001b[39m\n\u001b[0;32m   1375\u001b[0m \u001b[38;5;28;01melse\u001b[39;00m:\n\u001b[1;32m-> 1376\u001b[0m     ext \u001b[38;5;241m=\u001b[39m \u001b[43minspect_excel_format\u001b[49m\u001b[43m(\u001b[49m\n\u001b[0;32m   1377\u001b[0m \u001b[43m        \u001b[49m\u001b[43mcontent_or_path\u001b[49m\u001b[38;5;241;43m=\u001b[39;49m\u001b[43mpath_or_buffer\u001b[49m\u001b[43m,\u001b[49m\u001b[43m \u001b[49m\u001b[43mstorage_options\u001b[49m\u001b[38;5;241;43m=\u001b[39;49m\u001b[43mstorage_options\u001b[49m\n\u001b[0;32m   1378\u001b[0m \u001b[43m    \u001b[49m\u001b[43m)\u001b[49m\n\u001b[0;32m   1379\u001b[0m     \u001b[38;5;28;01mif\u001b[39;00m ext \u001b[38;5;129;01mis\u001b[39;00m \u001b[38;5;28;01mNone\u001b[39;00m:\n\u001b[0;32m   1380\u001b[0m         \u001b[38;5;28;01mraise\u001b[39;00m \u001b[38;5;167;01mValueError\u001b[39;00m(\n\u001b[0;32m   1381\u001b[0m             \u001b[38;5;124m\"\u001b[39m\u001b[38;5;124mExcel file format cannot be determined, you must specify \u001b[39m\u001b[38;5;124m\"\u001b[39m\n\u001b[0;32m   1382\u001b[0m             \u001b[38;5;124m\"\u001b[39m\u001b[38;5;124man engine manually.\u001b[39m\u001b[38;5;124m\"\u001b[39m\n\u001b[0;32m   1383\u001b[0m         )\n",
      "File \u001b[1;32m~\\anaconda3\\lib\\site-packages\\pandas\\io\\excel\\_base.py:1250\u001b[0m, in \u001b[0;36minspect_excel_format\u001b[1;34m(content_or_path, storage_options)\u001b[0m\n\u001b[0;32m   1247\u001b[0m \u001b[38;5;28;01mif\u001b[39;00m \u001b[38;5;28misinstance\u001b[39m(content_or_path, \u001b[38;5;28mbytes\u001b[39m):\n\u001b[0;32m   1248\u001b[0m     content_or_path \u001b[38;5;241m=\u001b[39m BytesIO(content_or_path)\n\u001b[1;32m-> 1250\u001b[0m \u001b[38;5;28;01mwith\u001b[39;00m \u001b[43mget_handle\u001b[49m\u001b[43m(\u001b[49m\n\u001b[0;32m   1251\u001b[0m \u001b[43m    \u001b[49m\u001b[43mcontent_or_path\u001b[49m\u001b[43m,\u001b[49m\u001b[43m \u001b[49m\u001b[38;5;124;43m\"\u001b[39;49m\u001b[38;5;124;43mrb\u001b[39;49m\u001b[38;5;124;43m\"\u001b[39;49m\u001b[43m,\u001b[49m\u001b[43m \u001b[49m\u001b[43mstorage_options\u001b[49m\u001b[38;5;241;43m=\u001b[39;49m\u001b[43mstorage_options\u001b[49m\u001b[43m,\u001b[49m\u001b[43m \u001b[49m\u001b[43mis_text\u001b[49m\u001b[38;5;241;43m=\u001b[39;49m\u001b[38;5;28;43;01mFalse\u001b[39;49;00m\n\u001b[0;32m   1252\u001b[0m \u001b[43m\u001b[49m\u001b[43m)\u001b[49m \u001b[38;5;28;01mas\u001b[39;00m handle:\n\u001b[0;32m   1253\u001b[0m     stream \u001b[38;5;241m=\u001b[39m handle\u001b[38;5;241m.\u001b[39mhandle\n\u001b[0;32m   1254\u001b[0m     stream\u001b[38;5;241m.\u001b[39mseek(\u001b[38;5;241m0\u001b[39m)\n",
      "File \u001b[1;32m~\\anaconda3\\lib\\site-packages\\pandas\\io\\common.py:795\u001b[0m, in \u001b[0;36mget_handle\u001b[1;34m(path_or_buf, mode, encoding, compression, memory_map, is_text, errors, storage_options)\u001b[0m\n\u001b[0;32m    786\u001b[0m         handle \u001b[38;5;241m=\u001b[39m \u001b[38;5;28mopen\u001b[39m(\n\u001b[0;32m    787\u001b[0m             handle,\n\u001b[0;32m    788\u001b[0m             ioargs\u001b[38;5;241m.\u001b[39mmode,\n\u001b[1;32m   (...)\u001b[0m\n\u001b[0;32m    791\u001b[0m             newline\u001b[38;5;241m=\u001b[39m\u001b[38;5;124m\"\u001b[39m\u001b[38;5;124m\"\u001b[39m,\n\u001b[0;32m    792\u001b[0m         )\n\u001b[0;32m    793\u001b[0m     \u001b[38;5;28;01melse\u001b[39;00m:\n\u001b[0;32m    794\u001b[0m         \u001b[38;5;66;03m# Binary mode\u001b[39;00m\n\u001b[1;32m--> 795\u001b[0m         handle \u001b[38;5;241m=\u001b[39m \u001b[38;5;28;43mopen\u001b[39;49m\u001b[43m(\u001b[49m\u001b[43mhandle\u001b[49m\u001b[43m,\u001b[49m\u001b[43m \u001b[49m\u001b[43mioargs\u001b[49m\u001b[38;5;241;43m.\u001b[39;49m\u001b[43mmode\u001b[49m\u001b[43m)\u001b[49m\n\u001b[0;32m    796\u001b[0m     handles\u001b[38;5;241m.\u001b[39mappend(handle)\n\u001b[0;32m    798\u001b[0m \u001b[38;5;66;03m# Convert BytesIO or file objects passed with an encoding\u001b[39;00m\n",
      "\u001b[1;31mFileNotFoundError\u001b[0m: [Errno 2] No such file or directory: 'list_stocks.xlsx'"
     ]
    }
   ],
   "source": [
    "# load ticker list from excel-file\n",
    "list_stocks = pd.read_excel('list_stocks.xlsx', index_col ='Company')\n",
    "all_res = []\n",
    "data_group=[]\n",
    "data_group_res=[]\n",
    "\n",
    "stock_res =[]\n",
    "stock_small_res=[]\n",
    "#len(list_stocks)\n",
    "for i in range(len(list_stocks)): # потім прописати весь список\n",
    "    symbol = list_stocks.index[i] # беремо акцію по індексу\n",
    "    datefromlist = list_stocks.iloc[i]['NotDate']\n",
    "    print('symbol=',symbol)\n",
    "    print('datefromlist=',datefromlist)\n",
    "    \n",
    "    # to calc average volume use 20 days before\n",
    "    start_date = datefromlist - datetime.timedelta(days=19)                                           \n",
    "    end_date = datefromlist + datetime.timedelta(days=180)\n",
    "\n",
    "    #load stock price\n",
    "    #symbol = list_stocks.index[i] # беремо акцію по індексу\n",
    "    wdf = yf.download(symbol, start_date, end_date)\n",
    "\n",
    "\n",
    "\n",
    "    # building moving average\n",
    "    wdf['avgvol']= wdf['Volume'].rolling(window=10, win_type=None).mean()  # середній обєм за 10 днів\n",
    "    wdf['VolRise'] =wdf['Volume']/wdf['avgvol']-1      # building vol signal\n",
    "    wdf['volsignal']=wdf['VolRise']>VolRise            # signal column\n",
    "    wdf['TradeAfter']=wdf.index\n",
    "\n",
    "    wdf['TradeAfterDaysSig'] = wdf['TradeAfter'] > datefromlist + datetime.timedelta(days=TradeAfterDays)\n",
    "    wdf['OpenPrice']=0\n",
    "    wdf['Profit']=0\n",
    "    wdf['StopPrice']=0\n",
    "    wdf['TargetPrice']=0\n",
    "    wdf['Ticker']=symbol\n",
    "    del(wdf['TradeAfter'])\n",
    "    lastrow=wdf.tail(1).index # last row in order to stop calculations\n",
    "\n",
    "    # main module\n",
    "    PriceOpen = 0\n",
    "    StopPrice = 0\n",
    "    TPPrice = 0\n",
    "    CloseSignal = 0\n",
    "    status = 0\n",
    "    \n",
    "    \n",
    "    for index, row in wdf.iterrows():\n",
    "        # looking for opening signal \n",
    "        if (PriceOpen ==0) & (lastrow[0]!=index):\n",
    "            if row['volsignal'] & row['TradeAfterDaysSig']:  # if Volume > than AvgVolume\n",
    "\n",
    "                PriceOpen = row['Close']  # record close price as price of open\n",
    "                wdf.at[index,'OpenPrice']= PriceOpen\n",
    "                StopPrice = PriceOpen-(PriceOpen*StopLoss*-1) # setting stop-loss\n",
    "\n",
    "                TPPrice = PriceOpen+(PriceOpen*ExitAfter)  # set target price\n",
    "                status=1\n",
    "\n",
    "    #     # working with first opened position\n",
    "        if (PriceOpen >0) & (status==0):\n",
    "            wdf.at[index,'OpenPrice']= PriceOpen\n",
    "            wdf.at[index,'StopPrice']= StopPrice\n",
    "            wdf.at[index,'TargetPrice']= TPPrice\n",
    "\n",
    "\n",
    "            if row['High']>TPPrice:\n",
    "                wdf.at[index,'Profit']= RiskPertrade*ExitAfter\n",
    "                PriceOpen =0\n",
    "                TPPrice=0\n",
    "                StopPrice=0\n",
    "\n",
    "            if row['Low']<StopPrice:\n",
    "                wdf.at[index,'Profit']= RiskPertrade*StopLoss\n",
    "                PriceOpen =0\n",
    "                TPPrice=0\n",
    "                StopPrice=0\n",
    "\n",
    "\n",
    "        status = 0    \n",
    "\n",
    "        # if there is open position and its last row\n",
    "        if lastrow[0]==index:\n",
    "            if PriceOpen >0:\n",
    "                wdf.at[index,'Profit']=(row['Close']/PriceOpen-1)*RiskPertrade\n",
    "                PriceOpen =0\n",
    "                TPPrice=0\n",
    "                StopPrice=0\n",
    "   \n",
    "    \n",
    "    #тут закінчується блок перебору строк акції і йде на наступну акцію\n",
    "    # 1. тікер\n",
    "    # 2. profit\n",
    "    # 3. tradecount\n",
    "    # 4. ProfitTrades\n",
    "    #  5.   LossTrades\n",
    "    # 6.    WinRate\n",
    "    #7.     AvgHold'\n",
    "    \n",
    "    tradecount=(wdf['Profit']!=0).sum()\n",
    "    ProfitTrades = (wdf['Profit']>0).sum()\n",
    "    LossTrades = (wdf['Profit']<0).sum()\n",
    "    #WinRate = round(ProfitTrades/tradecount,1)\n",
    "    #AvgHold = round((wdf['OpenPrice']!=0).sum()/tradecount,1)\n",
    "    stock_small_res=[symbol,round(wdf['Profit'].sum(),2),tradecount,ProfitTrades,LossTrades]\n",
    "    \n",
    "    data_group=wdf['Profit']\n",
    "    stock_res.append(stock_small_res)\n",
    "    data_group_res.append(data_group)\n",
    "    # блок запису dataFrame:\n",
    "    all_res.append(wdf)\n",
    "      \n",
    "    df_output = pd.concat(all_res)\n",
    "    \n",
    "    df_data =pd.concat(data_group_res)\n",
    "    #df_data.columns['Profit']\n",
    "   # mask1 = df_data.Profit >0\n",
    "    #mask2 = df_data.Profit <0\n",
    "    #df_out= df_data.loc[df_data['Profit']!=0]\n",
    "\n",
    "\n",
    "\n",
    "    \n",
    "      \n",
    "        "
   ]
  },
  {
   "cell_type": "code",
   "execution_count": 4,
   "id": "b1353715",
   "metadata": {},
   "outputs": [
    {
     "data": {
      "text/plain": [
       "7994.584722500627"
      ]
     },
     "execution_count": 4,
     "metadata": {},
     "output_type": "execute_result"
    }
   ],
   "source": [
    "df_output['Profit'].sum()"
   ]
  },
  {
   "cell_type": "code",
   "execution_count": 5,
   "id": "29a69b04",
   "metadata": {},
   "outputs": [],
   "source": [
    "stock_df = pd.DataFrame(stock_res, columns = ['Stock','Profit','TradeCount','ProfitTrades','LossTrades'])\n",
    "df_day = pd.DataFrame(df_data )\n",
    "df_day.index.name =\"Date\""
   ]
  },
  {
   "cell_type": "code",
   "execution_count": 7,
   "id": "f8c4c3b3",
   "metadata": {},
   "outputs": [],
   "source": [
    "df_day = df_day.loc[df_day['Profit']!=0] # remove 0 values\n",
    "df_day = df_day.groupby([df_day.index.date]).sum() # групуємо по даті\n"
   ]
  },
  {
   "cell_type": "code",
   "execution_count": 8,
   "id": "5bd4afb6",
   "metadata": {},
   "outputs": [
    {
     "data": {
      "text/html": [
       "<div>\n",
       "<style scoped>\n",
       "    .dataframe tbody tr th:only-of-type {\n",
       "        vertical-align: middle;\n",
       "    }\n",
       "\n",
       "    .dataframe tbody tr th {\n",
       "        vertical-align: top;\n",
       "    }\n",
       "\n",
       "    .dataframe thead th {\n",
       "        text-align: right;\n",
       "    }\n",
       "</style>\n",
       "<table border=\"1\" class=\"dataframe\">\n",
       "  <thead>\n",
       "    <tr style=\"text-align: right;\">\n",
       "      <th></th>\n",
       "      <th>Profit</th>\n",
       "    </tr>\n",
       "  </thead>\n",
       "  <tbody>\n",
       "    <tr>\n",
       "      <th>2022-01-24</th>\n",
       "      <td>-140.000000</td>\n",
       "    </tr>\n",
       "    <tr>\n",
       "      <th>2022-02-11</th>\n",
       "      <td>66.666600</td>\n",
       "    </tr>\n",
       "    <tr>\n",
       "      <th>2022-05-10</th>\n",
       "      <td>-140.000000</td>\n",
       "    </tr>\n",
       "    <tr>\n",
       "      <th>2022-05-17</th>\n",
       "      <td>500.000000</td>\n",
       "    </tr>\n",
       "    <tr>\n",
       "      <th>2022-05-25</th>\n",
       "      <td>-140.000000</td>\n",
       "    </tr>\n",
       "    <tr>\n",
       "      <th>...</th>\n",
       "      <td>...</td>\n",
       "    </tr>\n",
       "    <tr>\n",
       "      <th>2023-01-09</th>\n",
       "      <td>-140.000000</td>\n",
       "    </tr>\n",
       "    <tr>\n",
       "      <th>2023-01-10</th>\n",
       "      <td>80.000000</td>\n",
       "    </tr>\n",
       "    <tr>\n",
       "      <th>2023-01-11</th>\n",
       "      <td>500.000000</td>\n",
       "    </tr>\n",
       "    <tr>\n",
       "      <th>2023-01-12</th>\n",
       "      <td>220.000000</td>\n",
       "    </tr>\n",
       "    <tr>\n",
       "      <th>2023-01-13</th>\n",
       "      <td>3350.780734</td>\n",
       "    </tr>\n",
       "  </tbody>\n",
       "</table>\n",
       "<p>137 rows × 1 columns</p>\n",
       "</div>"
      ],
      "text/plain": [
       "                 Profit\n",
       "2022-01-24  -140.000000\n",
       "2022-02-11    66.666600\n",
       "2022-05-10  -140.000000\n",
       "2022-05-17   500.000000\n",
       "2022-05-25  -140.000000\n",
       "...                 ...\n",
       "2023-01-09  -140.000000\n",
       "2023-01-10    80.000000\n",
       "2023-01-11   500.000000\n",
       "2023-01-12   220.000000\n",
       "2023-01-13  3350.780734\n",
       "\n",
       "[137 rows x 1 columns]"
      ]
     },
     "execution_count": 8,
     "metadata": {},
     "output_type": "execute_result"
    }
   ],
   "source": [
    "df_day.sort_index()\n"
   ]
  },
  {
   "cell_type": "code",
   "execution_count": 10,
   "id": "36f5ccaf",
   "metadata": {},
   "outputs": [],
   "source": [
    "with pd.ExcelWriter(\"outputFiles/output.xlsx\") as writer:\n",
    "   \n",
    "    # use to_excel function and specify the sheet_name and index\n",
    "    # to store the dataframe in specified sheet\n",
    "    df_output.to_excel(writer, sheet_name=\"full_B\")\n",
    "    df_day.to_excel(writer, sheet_name=\"by date\")\n",
    "    stock_df.to_excel(writer, sheet_name=\"statByStock\")"
   ]
  },
  {
   "cell_type": "code",
   "execution_count": null,
   "id": "4c9ad6a9",
   "metadata": {},
   "outputs": [],
   "source": [
    "df_day\n"
   ]
  },
  {
   "cell_type": "code",
   "execution_count": null,
   "id": "51ab625e",
   "metadata": {},
   "outputs": [],
   "source": []
  }
 ],
 "metadata": {
  "kernelspec": {
   "display_name": "Python 3 (ipykernel)",
   "language": "python",
   "name": "python3"
  },
  "language_info": {
   "codemirror_mode": {
    "name": "ipython",
    "version": 3
   },
   "file_extension": ".py",
   "mimetype": "text/x-python",
   "name": "python",
   "nbconvert_exporter": "python",
   "pygments_lexer": "ipython3",
   "version": "3.9.12"
  }
 },
 "nbformat": 4,
 "nbformat_minor": 5
}
